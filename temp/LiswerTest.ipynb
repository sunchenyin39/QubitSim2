{
 "cells": [
  {
   "cell_type": "code",
   "execution_count": 1,
   "metadata": {},
   "outputs": [],
   "source": [
    "import numpy as np\n",
    "from matplotlib import pyplot as plt\n",
    "import QubitSim2.model"
   ]
  },
  {
   "cell_type": "code",
   "execution_count": 2,
   "metadata": {},
   "outputs": [],
   "source": [
    "circuit = QubitSim2.model.Circuit()"
   ]
  },
  {
   "cell_type": "code",
   "execution_count": 3,
   "metadata": {},
   "outputs": [],
   "source": [
    "Cq = 85E-15\n",
    "PhiQ = 0\n",
    "Cc = 100E-15\n",
    "PhiC = 0.35\n",
    "Rq = 11000*2\n",
    "Rc = 1500*2\n",
    "Cqc = 8E-15\n",
    "Cqq = 0.5E-15\n",
    "\n",
    "# 创建qubit\n",
    "C = Cq+Cqc\n",
    "phi_r = PhiQ*np.pi\n",
    "I_c_1 = 2.8E-4/Rq\n",
    "I_c_2 = 2.8E-4/Rq\n",
    "circuit.add_qubit(C, phi_r, I_c_1, I_c_2)\n",
    "\n",
    "# 创建coupler\n",
    "C = Cc\n",
    "phi_r = PhiC*np.pi\n",
    "I_c_1 = 2.8E-4/Rc \n",
    "I_c_2 = 2.8E-4/Rc \n",
    "circuit.add_qubit(C, phi_r, I_c_1, I_c_2)\n",
    "\n",
    "# 创建qubit\n",
    "C = Cq\n",
    "phi_r = PhiQ*np.pi\n",
    "I_c_1 = 2.8E-4/Rq\n",
    "I_c_2 = 2.8E-4/Rq\n",
    "circuit.add_qubit(C, phi_r, I_c_1, I_c_2)\n",
    "\n",
    "# 创建coupler\n",
    "C = Cc\n",
    "phi_r = PhiC*np.pi\n",
    "I_c_1 = 2.8E-4/Rc \n",
    "I_c_2 = 2.8E-4/Rc \n",
    "circuit.add_qubit(C, phi_r, I_c_1, I_c_2)\n",
    "\n",
    "# 创建qubit\n",
    "C = Cq+Cqc\n",
    "phi_r = PhiQ*np.pi\n",
    "I_c_1 = 2.8E-4/Rq\n",
    "I_c_2 = 2.8E-4/Rq\n",
    "circuit.add_qubit(C, phi_r, I_c_1, I_c_2)"
   ]
  },
  {
   "cell_type": "code",
   "execution_count": 4,
   "metadata": {},
   "outputs": [],
   "source": [
    "C_default = 1E-20\n",
    "L_default = 1\n",
    "\n",
    "circuit.add_connect(0, 1, Cqc, L_default)\n",
    "circuit.add_connect(1, 2, Cqc, L_default)\n",
    "circuit.add_connect(2, 3, Cqc, L_default)\n",
    "circuit.add_connect(3, 4, Cqc, L_default)\n",
    "circuit.add_connect(0, 2, Cqq, L_default)\n",
    "circuit.add_connect(2, 4, Cqq, L_default)"
   ]
  },
  {
   "cell_type": "code",
   "execution_count": 5,
   "metadata": {},
   "outputs": [],
   "source": [
    "# 设置仿真参数\n",
    "t_start = 0\n",
    "t_end = 0.5\n",
    "t_piece = 0.01\n",
    "operator_order_num = 4\n",
    "trigonometric_function_expand_order_num = 8\n",
    "exponent_function_expand_order_num = 15\n",
    "circuit.set_simulation_parameter(t_start, t_end, t_piece, operator_order_num)"
   ]
  },
  {
   "cell_type": "code",
   "execution_count": 6,
   "metadata": {},
   "outputs": [],
   "source": [
    "circuit.subspace = [[0, 0, 0], [0, 1, 0], [1, 0, 0], [1, 1, 0]]"
   ]
  },
  {
   "cell_type": "code",
   "execution_count": 7,
   "metadata": {},
   "outputs": [],
   "source": [
    "def signal_fun(t):\n",
    "    return t\n",
    "\n",
    "# 将信号加入量子线路\n",
    "qubit_index = 1\n",
    "circuit.add_signal(qubit_index,'z',signal_fun)"
   ]
  },
  {
   "cell_type": "code",
   "execution_count": 8,
   "metadata": {},
   "outputs": [],
   "source": [
    "circuit.M_Ec=circuit.M_Ec_generator()"
   ]
  },
  {
   "cell_type": "code",
   "execution_count": 9,
   "metadata": {},
   "outputs": [
    {
     "name": "stdout",
     "output_type": "stream",
     "text": [
      "0\n",
      "1\n",
      "2\n",
      "3\n",
      "4\n",
      "5\n",
      "6\n",
      "7\n",
      "8\n",
      "9\n"
     ]
    }
   ],
   "source": [
    "for ii in range(10):\n",
    "    print(ii)\n",
    "    Hamiltonian = circuit.Hamiltonian_generator('z')\n",
    "    # [eigenvalue, featurevector] = transformational_matrix_generator(Hamiltonian)"
   ]
  },
  {
   "cell_type": "code",
   "execution_count": null,
   "metadata": {},
   "outputs": [],
   "source": []
  }
 ],
 "metadata": {
  "kernelspec": {
   "display_name": "Python 3.7.9 ('env')",
   "language": "python",
   "name": "python3"
  },
  "language_info": {
   "codemirror_mode": {
    "name": "ipython",
    "version": 3
   },
   "file_extension": ".py",
   "mimetype": "text/x-python",
   "name": "python",
   "nbconvert_exporter": "python",
   "pygments_lexer": "ipython3",
   "version": "3.10.7"
  },
  "orig_nbformat": 4,
  "vscode": {
   "interpreter": {
    "hash": "a748dcf6a5acc6c3d9886c674d86b969a9739dcdc5e44bd29bf6a15be4d19873"
   }
  }
 },
 "nbformat": 4,
 "nbformat_minor": 2
}
