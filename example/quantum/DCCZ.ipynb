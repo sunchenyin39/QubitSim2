{
 "cells": [
  {
   "cell_type": "markdown",
   "id": "5be1c745",
   "metadata": {},
   "source": [
    "# 1.导入相关的依赖包"
   ]
  },
  {
   "cell_type": "code",
   "execution_count": 21,
   "id": "c5c5ecb2",
   "metadata": {},
   "outputs": [],
   "source": [
    "import numpy as np\n",
    "from matplotlib import pyplot as plt\n",
    "import QubitSim2.model\n",
    "from scipy import special"
   ]
  },
  {
   "cell_type": "markdown",
   "id": "1288e6ba",
   "metadata": {},
   "source": [
    "# 2.创建量子线路"
   ]
  },
  {
   "cell_type": "markdown",
   "id": "78a648df",
   "metadata": {},
   "source": [
    "1.创建一个量子线路对象QubitSim2.model.Circuit()"
   ]
  },
  {
   "cell_type": "code",
   "execution_count": 22,
   "id": "fed941ba",
   "metadata": {},
   "outputs": [],
   "source": [
    "# 创建一个量子线路\n",
    "circuit = QubitSim2.model.Circuit()"
   ]
  },
  {
   "cell_type": "markdown",
   "id": "73086750",
   "metadata": {},
   "source": [
    "2.使用add_qubit(C, phi_r, I_c_1, I_c_2)成员往刚刚创建的量子线路对象中添加比特\n",
    "\n",
    "$C$为该量子比特的电容\n",
    "\n",
    "$\\phi_{r}$为该量子比特DCSQUID中的约化剩磁 $\\frac{\\phi_{r}}{\\pi}\\times\\Phi_{0}$为DCQUID中的剩磁\n",
    "\n",
    "$I_{c1}$为该量子比特DCSQUID第一个约瑟夫森结的临界电流\n",
    "\n",
    "$I_{c2}$为该量子比特DCSQUID第二个约瑟夫森结的临界电流"
   ]
  },
  {
   "cell_type": "code",
   "execution_count": 23,
   "id": "ea12588a",
   "metadata": {},
   "outputs": [],
   "source": [
    "# 创建比特1\n",
    "# circuit.add_qubit(C, phi_r, I_c_1, I_c_2)用于向量子线路中添加一个比特对象\n",
    "# C为比特的电容\n",
    "# phi_r为比特DCSQUID中的约化剩磁,phi_r/pi*\n",
    "C = 4.8E-14+1E-20\n",
    "phi_r = 0.15*np.pi\n",
    "I_c_1 = 2.8E-4/22000\n",
    "I_c_2 = 2.8E-4/22000\n",
    "circuit.add_qubit(C, phi_r, I_c_1, I_c_2)\n",
    "\n",
    "# 创建比特2\n",
    "C = 4.8E-14+1E-20\n",
    "phi_r = 0.175*np.pi\n",
    "I_c_1 = 2.8E-4/22000\n",
    "I_c_2 = 2.8E-4/22000\n",
    "circuit.add_qubit(C, phi_r, I_c_1, I_c_2)\n",
    "\n",
    "# 创建coupler\n",
    "C = 9.6E-14+1E-20\n",
    "phi_r = 0.38*np.pi\n",
    "I_c_1 = 2.8E-4/4000\n",
    "I_c_2 = 2.8E-4/2000\n",
    "circuit.add_qubit(C, phi_r, I_c_1, I_c_2)"
   ]
  },
  {
   "cell_type": "markdown",
   "id": "bcb284fe",
   "metadata": {},
   "source": [
    "3.使用add_connect(qubit_index_1, qubit_index_2, C, L)添加连接对象\n",
    "qubit_index_1和qubit_index_2为此连接对象所连接的两个比特的下标\n",
    "\n",
    "比特的下标由比特加入量子线路的顺序决定(从0开始)\n",
    "\n",
    "$C$为此连接的电容\n",
    "\n",
    "$L$为此连接的电感"
   ]
  },
  {
   "cell_type": "code",
   "execution_count": 24,
   "id": "a0fb00d0",
   "metadata": {},
   "outputs": [],
   "source": [
    "# 创建连接\n",
    "C = 3.5E-16+1E-20\n",
    "L = 1\n",
    "circuit.add_connect(0, 1, C, L)\n",
    "C = 8E-15+1E-20\n",
    "L = 1\n",
    "circuit.add_connect(1, 2, C, L)\n",
    "C = 8E-15+1E-20\n",
    "L = 1\n",
    "circuit.add_connect(0, 2, C, L)"
   ]
  },
  {
   "attachments": {},
   "cell_type": "markdown",
   "id": "eef8fe06",
   "metadata": {},
   "source": [
    "4.使用set_simulation_parameter(t_start, t_end, t_piece, operator_order_num, trigonometric_function_expand_order_num, low_energy_tag, high_energylevel_num)设置仿真参数\n",
    "\n",
    "t_start为仿真的起始时间\n",
    "\n",
    "t_end为仿真的结束时间\n",
    "\n",
    "t_piece为仿真的时间间隔\n",
    "\n",
    "operator_order_num为单量子比特本征矢空间的维度,若operator_order_num=3,则本征矢空间为$\\{|0>,|1>,|2>\\}$\n",
    "\n",
    "trigonometric_function_expand_order_num为矩阵三角函数计算时的泰勒展开阶数\n",
    "\n",
    "low_energy_tag为低能级标识,例如:low_energy_tag=1意味着$|0>,|1>$将会被视为低能级,其余能级被视为高能级\n",
    "\n",
    "high_energylevel_num为直积态中高能级最大数量,量子演化将在这些直积态组成的子空间内计算"
   ]
  },
  {
   "cell_type": "code",
   "execution_count": 29,
   "id": "0bc14723",
   "metadata": {},
   "outputs": [],
   "source": [
    "# 设置仿真参数\n",
    "t_start = 0\n",
    "t_end = 40E-9\n",
    "t_piece = 1E-11\n",
    "operator_order_num = 4\n",
    "trigonometric_function_expand_order_num = 8\n",
    "low_energy_tag = 2\n",
    "high_energylevel_num = 1\n",
    "circuit.set_simulation_parameter(t_start, t_end, t_piece, operator_order_num,\n",
    "                                 trigonometric_function_expand_order_num, low_energy_tag, high_energylevel_num)\n"
   ]
  },
  {
   "cell_type": "markdown",
   "id": "6384f881",
   "metadata": {},
   "source": [
    "5.设置子空间\n",
    "circuit.subspace = [[0, 0, 0], [0, 1, 0], [1, 0, 0], [1, 1, 0]]的具体含义是\n",
    "\n",
    "此量子线路有三个比特，仿真之后的circuit.time_evolution_operator_dressed_sub矩阵的基底为$\\{|000>,|010>,|100>,|110>\\}$\n",
    "\n",
    "比特的顺序是根据比特的index从左向右排布的"
   ]
  },
  {
   "cell_type": "code",
   "execution_count": 30,
   "id": "ae679743",
   "metadata": {},
   "outputs": [],
   "source": [
    "# 设置子空间\n",
    "circuit.subspace = [[0, 0, 0], [0, 1, 0], [1, 0, 0], [1, 1, 0]]"
   ]
  },
  {
   "cell_type": "markdown",
   "id": "74e3808f",
   "metadata": {},
   "source": [
    "6.add_signal(qubit_index,'x',signal_fun)设置信号函数\n",
    "\n",
    "qubit_index为比特的下标\n",
    "\n",
    "第二个参数是信号加入的模式,'x'意味着信号加入到比特的主环路上(X控制),'z'意味着信号加入到比特的DCSQUID上(Z控制)\n",
    "\n",
    "第三个参数是用户自定义的信号函数"
   ]
  },
  {
   "cell_type": "code",
   "execution_count": 31,
   "id": "12cd8e10",
   "metadata": {},
   "outputs": [],
   "source": [
    "# 设置信号函数\n",
    "\n",
    "\n",
    "def signal_fun_1(t):\n",
    "    t = t*1E9\n",
    "    amplitude = 0.0169\n",
    "    rise_time_norm = 1\n",
    "    rise_delta = 2\n",
    "    rise_time = rise_time_norm*rise_delta\n",
    "    T = t_end*1E9-2*rise_time\n",
    "    waveform_max = 2\n",
    "    waveform_min = 0.31731050786291415\n",
    "    result = (special.erf((t-rise_time)/rise_delta/np.sqrt(2)) -\n",
    "              special.erf((t-(T+rise_time))/rise_delta/np.sqrt(2)))\n",
    "    result = amplitude*(result-waveform_min)/(waveform_max-waveform_min)\n",
    "    return result\n",
    "\n",
    "\n",
    "def signal_fun_2(t):\n",
    "    t = t*1E9\n",
    "    amplitude = 0.082\n",
    "    rise_time_norm = 1\n",
    "    rise_delta = 2\n",
    "    rise_time = rise_time_norm*rise_delta\n",
    "    T = t_end*1E9-2*rise_time\n",
    "    waveform_max = 2\n",
    "    waveform_min = 0.31731050786291415\n",
    "    result = (special.erf((t-rise_time)/rise_delta/np.sqrt(2)) -\n",
    "              special.erf((t-(T+rise_time))/rise_delta/np.sqrt(2)))\n",
    "    result = amplitude*(result-waveform_min)/(waveform_max-waveform_min)\n",
    "    return result\n",
    "\n",
    "\n",
    "# 将信号加入量子线路\n",
    "qubit_index = 1\n",
    "circuit.add_signal(qubit_index, 'z', signal_fun_1)\n",
    "\n",
    "qubit_index = 2\n",
    "circuit.add_signal(qubit_index, 'z', signal_fun_2)\n"
   ]
  },
  {
   "cell_type": "markdown",
   "id": "14dca8e6",
   "metadata": {},
   "source": [
    "# 3运行量子线路"
   ]
  },
  {
   "cell_type": "code",
   "execution_count": 32,
   "id": "be87c9e8",
   "metadata": {},
   "outputs": [
    {
     "name": "stderr",
     "output_type": "stream",
     "text": [
      "  0% |                                                                        |\r"
     ]
    },
    {
     "name": "stdout",
     "output_type": "stream",
     "text": [
      "Calculating the whole time evolution operator:\n"
     ]
    },
    {
     "name": "stderr",
     "output_type": "stream",
     "text": [
      "100% |########################################################################|\n"
     ]
    }
   ],
   "source": [
    "circuit.run()"
   ]
  },
  {
   "attachments": {},
   "cell_type": "markdown",
   "id": "aad8c980",
   "metadata": {},
   "source": [
    "# 4数据处理"
   ]
  },
  {
   "attachments": {},
   "cell_type": "markdown",
   "id": "a5b24e08",
   "metadata": {},
   "source": [
    "energy_levels_show_process(circuit.Hamiltonian_generator(),subspace)可以查看子空间的能级结构\n",
    "\n",
    "circuit.Hamiltonian_generator()为初始的哈密顿量\n",
    "\n",
    "circuit.Hamiltonian_generator('m',n)为第n份时间的哈密顿量\n",
    "\n",
    "subspace为子空间"
   ]
  },
  {
   "cell_type": "code",
   "execution_count": 33,
   "id": "f833aab9",
   "metadata": {},
   "outputs": [
    {
     "data": {
      "image/png": "[encoded data removed]",
      "text/plain": [
       "<Figure size 200x600 with 1 Axes>"
      ]
     },
     "metadata": {},
     "output_type": "display_data"
    }
   ],
   "source": [
    "circuit.energy_levels_show_process(circuit.Hamiltonian_generator(),circuit.subspace)"
   ]
  },
  {
   "attachments": {},
   "cell_type": "markdown",
   "id": "9d985182",
   "metadata": {},
   "source": [
    "circuit.time_evolution_operator_dressed_sub存储了子空间下的仿真之后的演化算符,用户可以自行调用进行数据处理"
   ]
  },
  {
   "cell_type": "code",
   "execution_count": 34,
   "id": "b636cf12",
   "metadata": {},
   "outputs": [
    {
     "name": "stdout",
     "output_type": "stream",
     "text": [
      "DCCZ_matrix:\n",
      "1.0000_-0.2297,0.0000_1.4281,0.0000_-1.5794,0.0000_-3.0248,\n",
      "0.0000_1.3588,0.9991_-2.6309,0.0424_2.2654,0.0000_-2.4442,\n",
      "0.0000_0.9288,0.0424_0.9603,0.9991_2.7151,0.0000_2.7127,\n",
      "0.0000_-2.8879,0.0000_0.1555,0.0000_0.3276,0.9998_-2.7627,\n",
      "\n",
      "DCCZ_matrix(phase free):\n",
      "1.0000_0.0000,0.0000_1.6577,0.0000_-1.3497,0.0000_-2.7951,\n",
      "0.0000_-2.2935,0.9991_0.0000,0.0424_-1.3868,0.0000_0.1867,\n",
      "0.0000_-1.7863,0.0424_-1.7548,0.9991_0.0000,0.0000_-0.0024,\n",
      "0.0000_3.0814,0.0000_-0.1583,0.0000_0.0138,0.9998_-3.0765,\n"
     ]
    }
   ],
   "source": [
    "DCCZ_matrix = circuit.time_evolution_operator_dressed_sub\n",
    "print(\"DCCZ_matrix:\")\n",
    "for i in range(4):\n",
    "    for j in range(4):\n",
    "        print(\"%.4f\" % np.abs(DCCZ_matrix[i][j]), end='_')\n",
    "        print(\"%.4f\" % np.angle(DCCZ_matrix[i][j]), end=',')\n",
    "    print()\n",
    "phase_globle = np.angle(DCCZ_matrix[0][0])\n",
    "phase1 = np.angle(DCCZ_matrix[1][1])\n",
    "phase2 = np.angle(DCCZ_matrix[2][2])\n",
    "phase_U = np.diag([np.exp(-complex(0, 1)*phase_globle), np.exp(-complex(0, 1)*phase1),\n",
    "                  np.exp(-complex(0, 1)*phase2), np.exp(-complex(0, 1)*(phase1+phase2-phase_globle))])\n",
    "DCCZ_matrix_free_phase=np.matmul(phase_U,DCCZ_matrix)\n",
    "print(\"\\nDCCZ_matrix(phase free):\")\n",
    "for i in range(4):\n",
    "    for j in range(4):\n",
    "        print(\"%.4f\" % np.abs(DCCZ_matrix_free_phase[i][j]), end='_')\n",
    "        print(\"%.4f\" % np.angle(DCCZ_matrix_free_phase[i][j]), end=',')\n",
    "    print()"
   ]
  }
 ],
 "metadata": {
  "kernelspec": {
   "display_name": "Python 3.7.9 ('env')",
   "language": "python",
   "name": "python3"
  },
  "language_info": {
   "codemirror_mode": {
    "name": "ipython",
    "version": 3
   },
   "file_extension": ".py",
   "mimetype": "text/x-python",
   "name": "python",
   "nbconvert_exporter": "python",
   "pygments_lexer": "ipython3",
   "version": "3.10.7"
  },
  "vscode": {
   "interpreter": {
    "hash": "a748dcf6a5acc6c3d9886c674d86b969a9739dcdc5e44bd29bf6a15be4d19873"
   }
  }
 },
 "nbformat": 4,
 "nbformat_minor": 5
}
