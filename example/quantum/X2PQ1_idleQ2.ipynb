{
 "cells": [
  {
   "cell_type": "markdown",
   "id": "5be1c745",
   "metadata": {},
   "source": [
    "# 1.导入相关的依赖包"
   ]
  },
  {
   "cell_type": "code",
   "execution_count": 1,
   "id": "c5c5ecb2",
   "metadata": {},
   "outputs": [],
   "source": [
    "import numpy as np\n",
    "from matplotlib import pyplot as plt\n",
    "import QubitSim2.model"
   ]
  },
  {
   "cell_type": "markdown",
   "id": "1288e6ba",
   "metadata": {},
   "source": [
    "# 2.创建量子线路"
   ]
  },
  {
   "cell_type": "markdown",
   "id": "78a648df",
   "metadata": {},
   "source": [
    "1.创建一个量子线路对象QubitSim2.model.Circuit()"
   ]
  },
  {
   "cell_type": "code",
   "execution_count": 2,
   "id": "fed941ba",
   "metadata": {},
   "outputs": [],
   "source": [
    "# 创建一个量子线路\n",
    "circuit = QubitSim2.model.Circuit()"
   ]
  },
  {
   "cell_type": "markdown",
   "id": "73086750",
   "metadata": {},
   "source": [
    "2.使用add_qubit(C, phi_r, I_c_1, I_c_2)成员往刚刚创建的量子线路对象中添加比特\n",
    "\n",
    "$C$为该量子比特的电容\n",
    "\n",
    "$\\phi_{r}$为该量子比特DCSQUID中的约化剩磁 $\\frac{\\phi_{r}}{\\pi}\\times\\Phi_{0}$为DCQUID中的剩磁\n",
    "\n",
    "$I_{c1}$为该量子比特DCSQUID第一个约瑟夫森结的临界电流\n",
    "\n",
    "$I_{c2}$为该量子比特DCSQUID第二个约瑟夫森结的临界电流"
   ]
  },
  {
   "cell_type": "code",
   "execution_count": 3,
   "id": "ea12588a",
   "metadata": {},
   "outputs": [],
   "source": [
    "# 创建比特1\n",
    "# circuit.add_qubit(C, phi_r, I_c_1, I_c_2)用于向量子线路中添加一个比特对象\n",
    "# C为比特的电容\n",
    "# phi_r为比特DCSQUID中的约化剩磁,phi_r/pi*\n",
    "C = 88.1E-15+1E-20\n",
    "phi_r = 0.0*np.pi\n",
    "I_c_1 = 2.8E-4/18000\n",
    "I_c_2 = 2.8E-4/18000\n",
    "circuit.add_qubit(C, phi_r, I_c_1, I_c_2)\n",
    "\n",
    "# 创建比特2\n",
    "C = 88.1E-15+1E-20\n",
    "phi_r = 0.12*np.pi\n",
    "I_c_1 = 2.8E-4/18000\n",
    "I_c_2 = 2.8E-4/18000\n",
    "circuit.add_qubit(C, phi_r, I_c_1, I_c_2)\n",
    "\n",
    "# 创建coupler\n",
    "C = 125.4E-15+1E-20\n",
    "phi_r = 0.39*np.pi\n",
    "I_c_1 = 2.8E-4/3000\n",
    "I_c_2 = 2.8E-4/2000\n",
    "circuit.add_qubit(C, phi_r, I_c_1, I_c_2)"
   ]
  },
  {
   "cell_type": "markdown",
   "id": "bcb284fe",
   "metadata": {},
   "source": [
    "3.使用add_connect(qubit_index_1, qubit_index_2, C, L)添加连接对象\n",
    "qubit_index_1和qubit_index_2为此连接对象所连接的两个比特的下标\n",
    "\n",
    "比特的下标由比特加入量子线路的顺序决定(从0开始)\n",
    "\n",
    "$C$为此连接的电容\n",
    "\n",
    "$L$为此连接的电感"
   ]
  },
  {
   "cell_type": "code",
   "execution_count": 4,
   "id": "a0fb00d0",
   "metadata": {},
   "outputs": [],
   "source": [
    "# 创建连接\n",
    "C = 6E-16+1E-20\n",
    "L = 1\n",
    "circuit.add_connect(0, 1, C, L)\n",
    "C = 10.11E-15+1E-20\n",
    "L = 1\n",
    "circuit.add_connect(1, 2, C, L)\n",
    "C = 10.11E-15+1E-20\n",
    "L = 1\n",
    "circuit.add_connect(0, 2, C, L)"
   ]
  },
  {
   "attachments": {},
   "cell_type": "markdown",
   "id": "eef8fe06",
   "metadata": {},
   "source": [
    "4.使用set_simulation_parameter(t_start, t_end, t_piece, operator_order_num, trigonometric_function_expand_order_num, low_energy_tag, high_energylevel_num)设置仿真参数\n",
    "\n",
    "t_start为仿真的起始时间\n",
    "\n",
    "t_end为仿真的结束时间\n",
    "\n",
    "t_piece为仿真的时间间隔\n",
    "\n",
    "operator_order_num为单量子比特本征矢空间的维度,若operator_order_num=3,则本征矢空间为$\\{|0>,|1>,|2>\\}$\n",
    "\n",
    "trigonometric_function_expand_order_num为矩阵三角函数计算时的泰勒展开阶数\n",
    "\n",
    "low_energy_tag为低能级标识,例如:low_energy_tag=1意味着$|0>,|1>$将会被视为低能级,其余能级被视为高能级\n",
    "\n",
    "high_energylevel_num为直积态中高能级最大数量,量子演化将在这些直积态组成的子空间内计算"
   ]
  },
  {
   "cell_type": "code",
   "execution_count": 19,
   "id": "0bc14723",
   "metadata": {},
   "outputs": [],
   "source": [
    "# 设置仿真参数\n",
    "t_start = 0\n",
    "t_end = 20E-9\n",
    "t_piece = 1E-11\n",
    "operator_order_num = 4\n",
    "trigonometric_function_expand_order_num = 8\n",
    "low_energy_tag = 1\n",
    "high_energylevel_num = 1\n",
    "circuit.set_simulation_parameter(t_start, t_end, t_piece, operator_order_num,\n",
    "                                 trigonometric_function_expand_order_num, low_energy_tag, high_energylevel_num)\n"
   ]
  },
  {
   "cell_type": "markdown",
   "id": "6384f881",
   "metadata": {},
   "source": [
    "5.设置子空间\n",
    "circuit.subspace = [[0, 0, 0], [0, 1, 0], [1, 0, 0], [1, 1, 0]]的具体含义是\n",
    "\n",
    "此量子线路有三个比特，仿真之后的circuit.time_evolution_operator_dressed_sub矩阵的基底为$\\{|000>,|010>,|100>,|110>\\}$\n",
    "\n",
    "比特的顺序是根据比特的index从左向右排布的"
   ]
  },
  {
   "cell_type": "code",
   "execution_count": 12,
   "id": "ae679743",
   "metadata": {},
   "outputs": [],
   "source": [
    "# 设置子空间\n",
    "circuit.subspace = [[0, 0, 0], [0, 1, 0], [1, 0, 0], [1, 1, 0]]"
   ]
  },
  {
   "cell_type": "markdown",
   "id": "74e3808f",
   "metadata": {},
   "source": [
    "6.add_signal(qubit_index,'x',signal_fun)设置信号函数\n",
    "\n",
    "qubit_index为比特的下标\n",
    "\n",
    "第二个参数是信号加入的模式,'x'意味着信号加入到比特的主环路上(X控制),'z'意味着信号加入到比特的DCSQUID上(Z控制)\n",
    "\n",
    "第三个参数是用户自定义的信号函数"
   ]
  },
  {
   "cell_type": "code",
   "execution_count": 13,
   "id": "12cd8e10",
   "metadata": {},
   "outputs": [],
   "source": [
    "# 设置信号函数\n",
    "def signal_fun(t):\n",
    "    Amplitude = 0.00365\n",
    "    f01_Q1 = 4.7035E9\n",
    "    phi = np.pi-0.3356\n",
    "    Envolope=1-np.cos(2*np.pi*(t)/(20E-9))\n",
    "    return  Amplitude*Envolope*np.cos(2*np.pi*f01_Q1*t+phi)\n",
    "\n",
    "# 将信号加入量子线路\n",
    "qubit_index = 0\n",
    "circuit.add_signal(qubit_index,'x',signal_fun)"
   ]
  },
  {
   "cell_type": "markdown",
   "id": "14dca8e6",
   "metadata": {},
   "source": [
    "# 3运行量子线路"
   ]
  },
  {
   "cell_type": "code",
   "execution_count": 20,
   "id": "be87c9e8",
   "metadata": {},
   "outputs": [
    {
     "name": "stderr",
     "output_type": "stream",
     "text": [
      "  1% |                                                                        |\r"
     ]
    },
    {
     "name": "stdout",
     "output_type": "stream",
     "text": [
      "Calculating the whole time evolution operator:\n"
     ]
    },
    {
     "name": "stderr",
     "output_type": "stream",
     "text": [
      "100% |########################################################################|\n"
     ]
    }
   ],
   "source": [
    "circuit.run()"
   ]
  },
  {
   "attachments": {},
   "cell_type": "markdown",
   "id": "aad8c980",
   "metadata": {},
   "source": [
    "# 4数据处理"
   ]
  },
  {
   "attachments": {},
   "cell_type": "markdown",
   "id": "a5b24e08",
   "metadata": {},
   "source": [
    "energy_levels_show_process(circuit.Hamiltonian_generator(),subspace)可以查看子空间的能级结构\n",
    "\n",
    "circuit.Hamiltonian_generator()为初始的哈密顿量\n",
    "\n",
    "circuit.Hamiltonian_generator('m',n)为第n份时间的哈密顿量\n",
    "\n",
    "subspace为子空间"
   ]
  },
  {
   "cell_type": "code",
   "execution_count": 21,
   "id": "f833aab9",
   "metadata": {},
   "outputs": [
    {
     "data": {
      "image/png": "[encoded data removed]",
      "text/plain": [
       "<Figure size 200x600 with 1 Axes>"
      ]
     },
     "metadata": {},
     "output_type": "display_data"
    }
   ],
   "source": [
    "circuit.energy_levels_show_process(circuit.Hamiltonian_generator(),circuit.subspace)"
   ]
  },
  {
   "attachments": {},
   "cell_type": "markdown",
   "id": "9d985182",
   "metadata": {},
   "source": [
    "circuit.time_evolution_operator_dressed_sub存储了子空间下的仿真之后的演化算符,用户可以自行调用进行数据处理"
   ]
  },
  {
   "cell_type": "code",
   "execution_count": 22,
   "id": "b636cf12",
   "metadata": {},
   "outputs": [
    {
     "name": "stdout",
     "output_type": "stream",
     "text": [
      "X2PQ1_idleQ2_matrix:\n",
      "0.7093_0.0118,0.0001_-0.4290,0.7049_-1.6210,0.0002_-1.3992,\n",
      "0.0001_2.8507,0.7115_0.0211,0.0003_2.2015,0.7019_-1.6701,\n",
      "0.7049_-1.6213,0.0003_-1.0801,0.7093_-0.1126,0.0004_-0.5465,\n",
      "0.0002_1.9596,0.7019_-1.5926,0.0004_2.8115,0.7117_-0.1410,\n",
      "\n",
      "X2PQ1_matrix:\n",
      "[[ 0.70921786+0.00839224j -0.03538404-0.70403306j]\n",
      " [-0.03561989-0.70402117j  0.70478478-0.07971497j]]\n",
      "theta_g=-0.0504\n",
      "phi=1.5686\n",
      "nx=0.9980\n",
      "ny=-0.0002\n",
      "nz=-0.0624\n"
     ]
    }
   ],
   "source": [
    "X2PQ1_idleQ2_matrix = circuit.time_evolution_operator_dressed_sub\n",
    "print(\"X2PQ1_idleQ2_matrix:\")\n",
    "for i in range(4):\n",
    "    for j in range(4):\n",
    "        print(\"%.4f\" % np.abs(X2PQ1_idleQ2_matrix[i][j]), end='_')\n",
    "        print(\"%.4f\" % np.angle(X2PQ1_idleQ2_matrix[i][j]), end=',')\n",
    "    print()\n",
    "\n",
    "X2PQ1_matrix = np.zeros([2, 2], dtype=complex)\n",
    "X2PQ1_matrix[0][0] = X2PQ1_idleQ2_matrix[0][0]\n",
    "X2PQ1_matrix[0][1] = X2PQ1_idleQ2_matrix[0][2]\n",
    "X2PQ1_matrix[1][0] = X2PQ1_idleQ2_matrix[2][0]\n",
    "X2PQ1_matrix[1][1] = X2PQ1_idleQ2_matrix[2][2]\n",
    "print(\"\\nX2PQ1_matrix:\")\n",
    "print(X2PQ1_matrix)\n",
    "\n",
    "theta_g = (np.angle(X2PQ1_matrix[0][0])+np.angle(X2PQ1_matrix[1][1]))/2.0\n",
    "phi = 2*np.arccos(np.real(X2PQ1_matrix[0][0]/np.exp(complex(0, 1)*theta_g)))\n",
    "nx = np.imag(X2PQ1_matrix[0][1] /\n",
    "             np.exp(complex(0, 1)*theta_g))/(-1)/np.sin(phi/2)\n",
    "ny = np.real(X2PQ1_matrix[0][1] /\n",
    "             np.exp(complex(0, 1)*theta_g))/(-1)/np.sin(phi/2)\n",
    "nz = np.imag(X2PQ1_matrix[0][0] /\n",
    "             np.exp(complex(0, 1)*theta_g))/(-1)/np.sin(phi/2)\n",
    "print(\"theta_g=%.4f\" % theta_g)\n",
    "print(\"phi=%.4f\" % phi)\n",
    "print(\"nx=%.4f\" % nx)\n",
    "print(\"ny=%.4f\" % ny)\n",
    "print(\"nz=%.4f\" % nz)"
   ]
  }
 ],
 "metadata": {
  "kernelspec": {
   "display_name": "Python 3.7.9 ('env')",
   "language": "python",
   "name": "python3"
  },
  "language_info": {
   "codemirror_mode": {
    "name": "ipython",
    "version": 3
   },
   "file_extension": ".py",
   "mimetype": "text/x-python",
   "name": "python",
   "nbconvert_exporter": "python",
   "pygments_lexer": "ipython3",
   "version": "3.10.7"
  },
  "vscode": {
   "interpreter": {
    "hash": "a748dcf6a5acc6c3d9886c674d86b969a9739dcdc5e44bd29bf6a15be4d19873"
   }
  }
 },
 "nbformat": 4,
 "nbformat_minor": 5
}
