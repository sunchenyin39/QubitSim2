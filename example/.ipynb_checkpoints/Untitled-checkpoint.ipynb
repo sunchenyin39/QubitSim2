{
 "cells": [
  {
   "cell_type": "markdown",
   "id": "00cb127c",
   "metadata": {},
   "source": [
    "# 1.导入相关的依赖包"
   ]
  },
  {
   "cell_type": "code",
   "execution_count": 1,
   "id": "3766fb6c",
   "metadata": {},
   "outputs": [],
   "source": [
    "import numpy as np\n",
    "import QubitSim2.model\n",
    "import QubitSim2.constant as ct\n",
    "from matplotlib import pyplot as plt"
   ]
  },
  {
   "cell_type": "markdown",
   "id": "50322bd7",
   "metadata": {},
   "source": [
    "# 2.创建量子线路"
   ]
  },
  {
   "cell_type": "code",
   "execution_count": null,
   "id": "ec9d3bc6",
   "metadata": {},
   "outputs": [],
   "source": [
    "# 创建一个量子线路\n",
    "circuit = QubitSim2.model.Circuit()\n",
    "\n",
    "# 创建比特1\n",
    "C = 88.1E-15+1E-20\n",
    "phi_r = 0.0*np.pi\n",
    "I_c_1 = 2.8E-4/18000\n",
    "I_c_2 = 2.8E-4/18000\n",
    "circuit.add_qubit(C, phi_r, I_c_1, I_c_2)\n",
    "\n",
    "# 创建比特2\n",
    "C = 88.1E-15+1E-20\n",
    "phi_r = 0.12*np.pi\n",
    "I_c_1 = 2.8E-4/18000\n",
    "I_c_2 = 2.8E-4/18000\n",
    "circuit.add_qubit(C, phi_r, I_c_1, I_c_2)\n",
    "\n",
    "# 创建coupler\n",
    "C = 125.4E-15+1E-20\n",
    "phi_r = 0.39*np.pi\n",
    "I_c_1 = 2.8E-4/3000\n",
    "I_c_2 = 2.8E-4/2000\n",
    "circuit.add_qubit(C, phi_r, I_c_1, I_c_2)\n",
    "\n",
    "# 创建连接\n",
    "C = 6E-16+1E-20\n",
    "L = 1\n",
    "circuit.add_connect(0, 1, C, L)\n",
    "C = 10.11E-15+1E-20\n",
    "L = 1\n",
    "circuit.add_connect(1, 2, C, L)\n",
    "circuit.add_connect(0, 2, C, L)\n",
    "\n",
    "\n",
    "circuit.set_simulation_parameter(0, 20E-9, 1E-11, 4, 8, 15)\n",
    "circuit.subspace = [[0, 0, 0], [0, 1, 0], [1, 0, 0], [1, 1, 0]]"
   ]
  }
 ],
 "metadata": {
  "kernelspec": {
   "display_name": "Python 3 (ipykernel)",
   "language": "python",
   "name": "python3"
  },
  "language_info": {
   "codemirror_mode": {
    "name": "ipython",
    "version": 3
   },
   "file_extension": ".py",
   "mimetype": "text/x-python",
   "name": "python",
   "nbconvert_exporter": "python",
   "pygments_lexer": "ipython3",
   "version": "3.11.1"
  }
 },
 "nbformat": 4,
 "nbformat_minor": 5
}
