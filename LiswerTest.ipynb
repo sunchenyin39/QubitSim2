{
 "cells": [
  {
   "cell_type": "code",
   "execution_count": 1,
   "metadata": {},
   "outputs": [],
   "source": [
    "import numpy as np\n",
    "from matplotlib import pyplot as plt\n",
    "import QubitSim2.model"
   ]
  },
  {
   "cell_type": "code",
   "execution_count": 2,
   "metadata": {},
   "outputs": [],
   "source": [
    "circuit = QubitSim2.model.Circuit()"
   ]
  },
  {
   "cell_type": "code",
   "execution_count": 3,
   "metadata": {},
   "outputs": [],
   "source": [
    "Cq = 85E-15\n",
    "PhiQ = 0\n",
    "Cc = 100E-15\n",
    "PhiC = 0.35\n",
    "Rq = 11000*2\n",
    "Rc = 1500*2\n",
    "Cqc = 8E-15\n",
    "Cqq = 0.5E-15\n",
    "\n",
    "# 创建qubit\n",
    "C = Cq+Cqc\n",
    "phi_r = PhiQ*np.pi\n",
    "I_c_1 = 2.8E-4/Rq\n",
    "I_c_2 = 2.8E-4/Rq\n",
    "circuit.add_qubit(C, phi_r, I_c_1, I_c_2)\n",
    "\n",
    "# 创建coupler\n",
    "C = Cc\n",
    "phi_r = PhiC*np.pi\n",
    "I_c_1 = 2.8E-4/Rc \n",
    "I_c_2 = 2.8E-4/Rc \n",
    "circuit.add_qubit(C, phi_r, I_c_1, I_c_2)\n",
    "\n",
    "# 创建qubit\n",
    "C = Cq\n",
    "phi_r = PhiQ*np.pi\n",
    "I_c_1 = 2.8E-4/Rq\n",
    "I_c_2 = 2.8E-4/Rq\n",
    "circuit.add_qubit(C, phi_r, I_c_1, I_c_2)\n",
    "\n",
    "# 创建coupler\n",
    "C = Cc\n",
    "phi_r = PhiC*np.pi\n",
    "I_c_1 = 2.8E-4/Rc \n",
    "I_c_2 = 2.8E-4/Rc \n",
    "circuit.add_qubit(C, phi_r, I_c_1, I_c_2)\n",
    "\n",
    "# 创建qubit\n",
    "C = Cq+Cqc\n",
    "phi_r = PhiQ*np.pi\n",
    "I_c_1 = 2.8E-4/Rq\n",
    "I_c_2 = 2.8E-4/Rq\n",
    "circuit.add_qubit(C, phi_r, I_c_1, I_c_2)"
   ]
  },
  {
   "cell_type": "code",
   "execution_count": 4,
   "metadata": {},
   "outputs": [],
   "source": [
    "C_default = 1E-20\n",
    "L_default = 1\n",
    "\n",
    "circuit.add_connect(0, 1, Cqc, L_default)\n",
    "circuit.add_connect(1, 2, Cqc, L_default)\n",
    "circuit.add_connect(2, 3, Cqc, L_default)\n",
    "circuit.add_connect(3, 4, Cqc, L_default)\n",
    "circuit.add_connect(0, 2, Cqq, L_default)\n",
    "circuit.add_connect(2, 4, Cqq, L_default)"
   ]
  },
  {
   "cell_type": "code",
   "execution_count": 5,
   "metadata": {},
   "outputs": [],
   "source": [
    "# 设置仿真参数\n",
    "t_start = 0\n",
    "t_end = 0.5\n",
    "t_piece = 0.01\n",
    "operator_order_num = 4\n",
    "trigonometric_function_expand_order_num = 8\n",
    "exponent_function_expand_order_num = 15\n",
    "circuit.set_simulation_parameter(t_start, t_end, t_piece, operator_order_num)"
   ]
  },
  {
   "cell_type": "code",
   "execution_count": 6,
   "metadata": {},
   "outputs": [],
   "source": [
    "circuit.subspace = [[0, 0, 0], [0, 1, 0], [1, 0, 0], [1, 1, 0]]"
   ]
  },
  {
   "cell_type": "code",
   "execution_count": 7,
   "metadata": {},
   "outputs": [],
   "source": [
    "def signal_fun(t):\n",
    "    return t\n",
    "\n",
    "# 将信号加入量子线路\n",
    "qubit_index = 1\n",
    "circuit.add_signal(qubit_index,'z',signal_fun)"
   ]
  },
  {
   "cell_type": "code",
   "execution_count": 8,
   "metadata": {},
   "outputs": [],
   "source": [
    "circuit.M_Ec=circuit.M_Ec_generator()"
   ]
  },
  {
   "cell_type": "code",
   "execution_count": 9,
   "metadata": {},
   "outputs": [
    {
     "name": "stdout",
     "output_type": "stream",
     "text": [
      "0\n"
     ]
    },
    {
     "name": "stderr",
     "output_type": "stream",
     "text": [
      "d:\\research\\program\\QubitSim2\\QubitSim2\\model.py:296: NumbaWarning: \u001b[1m\n",
      "Compilation is falling back to object mode WITH looplifting enabled because Function \"Hamiltonian_generator\" failed type inference due to: \u001b[1m\u001b[1mnon-precise type pyobject\u001b[0m\n",
      "\u001b[0m\u001b[1mDuring: typing of argument at d:\\research\\program\\QubitSim2\\QubitSim2\\model.py (307)\u001b[0m\n",
      "\u001b[1m\n",
      "File \"QubitSim2\\model.py\", line 307:\u001b[0m\n",
      "\u001b[1m    def Hamiltonian_generator(self, mode='z', n=0):\n",
      "        <source elided>\n",
      "        \"\"\"\n",
      "\u001b[1m        if mode == 'm':\n",
      "\u001b[0m        \u001b[1m^\u001b[0m\u001b[0m\n",
      "\u001b[0m\n",
      "  @jit\n",
      "d:\\research\\program\\QubitSim2\\QubitSim2\\model.py:296: NumbaWarning: \u001b[1m\n",
      "Compilation is falling back to object mode WITHOUT looplifting enabled because Function \"Hamiltonian_generator\" failed type inference due to: \u001b[1m\u001b[1mCannot determine Numba type of <class 'numba.core.dispatcher.LiftedLoop'>\u001b[0m\n",
      "\u001b[1m\n",
      "File \"QubitSim2\\model.py\", line 313:\u001b[0m\n",
      "\u001b[1m    def Hamiltonian_generator(self, mode='z', n=0):\n",
      "        <source elided>\n",
      "\n",
      "\u001b[1m            for i in range(self.qubit_number):\n",
      "\u001b[0m            \u001b[1m^\u001b[0m\u001b[0m\n",
      "\u001b[0m\u001b[0m\n",
      "  @jit\n",
      "d:\\research\\program\\env\\lib\\site-packages\\numba\\core\\object_mode_passes.py:152: NumbaWarning: \u001b[1mFunction \"Hamiltonian_generator\" was compiled in object mode without forceobj=True, but has lifted loops.\n",
      "\u001b[1m\n",
      "File \"QubitSim2\\model.py\", line 307:\u001b[0m\n",
      "\u001b[1m    def Hamiltonian_generator(self, mode='z', n=0):\n",
      "        <source elided>\n",
      "        \"\"\"\n",
      "\u001b[1m        if mode == 'm':\n",
      "\u001b[0m        \u001b[1m^\u001b[0m\u001b[0m\n",
      "\u001b[0m\n",
      "  state.func_ir.loc))\n",
      "d:\\research\\program\\env\\lib\\site-packages\\numba\\core\\object_mode_passes.py:162: NumbaDeprecationWarning: \u001b[1m\n",
      "Fall-back from the nopython compilation path to the object mode compilation path has been detected, this is deprecated behaviour.\n",
      "\n",
      "For more information visit https://numba.readthedocs.io/en/stable/reference/deprecation.html#deprecation-of-object-mode-fall-back-behaviour-when-using-jit\n",
      "\u001b[1m\n",
      "File \"QubitSim2\\model.py\", line 307:\u001b[0m\n",
      "\u001b[1m    def Hamiltonian_generator(self, mode='z', n=0):\n",
      "        <source elided>\n",
      "        \"\"\"\n",
      "\u001b[1m        if mode == 'm':\n",
      "\u001b[0m        \u001b[1m^\u001b[0m\u001b[0m\n",
      "\u001b[0m\n",
      "  state.func_ir.loc))\n",
      "d:\\research\\program\\QubitSim2\\QubitSim2\\model.py:296: NumbaWarning: \u001b[1m\n",
      "Compilation is falling back to object mode WITHOUT looplifting enabled because Function \"Hamiltonian_generator\" failed type inference due to: \u001b[1m\u001b[1mnon-precise type pyobject\u001b[0m\n",
      "\u001b[0m\u001b[1mDuring: typing of argument at d:\\research\\program\\QubitSim2\\QubitSim2\\model.py (385)\u001b[0m\n",
      "\u001b[1m\n",
      "File \"QubitSim2\\model.py\", line 385:\u001b[0m\n",
      "\u001b[1m    def Hamiltonian_generator(self, mode='z', n=0):\n",
      "        <source elided>\n",
      "\n",
      "\u001b[1m            for i in range(self.qubit_number):\n",
      "\u001b[0m            \u001b[1m^\u001b[0m\u001b[0m\n",
      "\u001b[0m\n",
      "  @jit\n",
      "d:\\research\\program\\env\\lib\\site-packages\\numba\\core\\object_mode_passes.py:152: NumbaWarning: \u001b[1mFunction \"Hamiltonian_generator\" was compiled in object mode without forceobj=True.\n",
      "\u001b[1m\n",
      "File \"QubitSim2\\model.py\", line 385:\u001b[0m\n",
      "\u001b[1m    def Hamiltonian_generator(self, mode='z', n=0):\n",
      "        <source elided>\n",
      "\n",
      "\u001b[1m            for i in range(self.qubit_number):\n",
      "\u001b[0m            \u001b[1m^\u001b[0m\u001b[0m\n",
      "\u001b[0m\n",
      "  state.func_ir.loc))\n",
      "d:\\research\\program\\env\\lib\\site-packages\\numba\\core\\object_mode_passes.py:162: NumbaDeprecationWarning: \u001b[1m\n",
      "Fall-back from the nopython compilation path to the object mode compilation path has been detected, this is deprecated behaviour.\n",
      "\n",
      "For more information visit https://numba.readthedocs.io/en/stable/reference/deprecation.html#deprecation-of-object-mode-fall-back-behaviour-when-using-jit\n",
      "\u001b[1m\n",
      "File \"QubitSim2\\model.py\", line 385:\u001b[0m\n",
      "\u001b[1m    def Hamiltonian_generator(self, mode='z', n=0):\n",
      "        <source elided>\n",
      "\n",
      "\u001b[1m            for i in range(self.qubit_number):\n",
      "\u001b[0m            \u001b[1m^\u001b[0m\u001b[0m\n",
      "\u001b[0m\n",
      "  state.func_ir.loc))\n",
      "d:\\research\\program\\QubitSim2\\QubitSim2\\model.py:296: NumbaWarning: \u001b[1m\n",
      "Compilation is falling back to object mode WITHOUT looplifting enabled because Function \"Hamiltonian_generator\" failed type inference due to: \u001b[1m\u001b[1mnon-precise type pyobject\u001b[0m\n",
      "\u001b[0m\u001b[1mDuring: typing of argument at d:\\research\\program\\QubitSim2\\QubitSim2\\model.py (393)\u001b[0m\n",
      "\u001b[1m\n",
      "File \"QubitSim2\\model.py\", line 393:\u001b[0m\n",
      "\u001b[1m    def Hamiltonian_generator(self, mode='z', n=0):\n",
      "        <source elided>\n",
      "\n",
      "\u001b[1m            for i in range(self.qubit_number):\n",
      "\u001b[0m            \u001b[1m^\u001b[0m\u001b[0m\n",
      "\u001b[0m\n",
      "  @jit\n",
      "d:\\research\\program\\env\\lib\\site-packages\\numba\\core\\object_mode_passes.py:152: NumbaWarning: \u001b[1mFunction \"Hamiltonian_generator\" was compiled in object mode without forceobj=True.\n",
      "\u001b[1m\n",
      "File \"QubitSim2\\model.py\", line 393:\u001b[0m\n",
      "\u001b[1m    def Hamiltonian_generator(self, mode='z', n=0):\n",
      "        <source elided>\n",
      "\n",
      "\u001b[1m            for i in range(self.qubit_number):\n",
      "\u001b[0m            \u001b[1m^\u001b[0m\u001b[0m\n",
      "\u001b[0m\n",
      "  state.func_ir.loc))\n",
      "d:\\research\\program\\env\\lib\\site-packages\\numba\\core\\object_mode_passes.py:162: NumbaDeprecationWarning: \u001b[1m\n",
      "Fall-back from the nopython compilation path to the object mode compilation path has been detected, this is deprecated behaviour.\n",
      "\n",
      "For more information visit https://numba.readthedocs.io/en/stable/reference/deprecation.html#deprecation-of-object-mode-fall-back-behaviour-when-using-jit\n",
      "\u001b[1m\n",
      "File \"QubitSim2\\model.py\", line 393:\u001b[0m\n",
      "\u001b[1m    def Hamiltonian_generator(self, mode='z', n=0):\n",
      "        <source elided>\n",
      "\n",
      "\u001b[1m            for i in range(self.qubit_number):\n",
      "\u001b[0m            \u001b[1m^\u001b[0m\u001b[0m\n",
      "\u001b[0m\n",
      "  state.func_ir.loc))\n"
     ]
    },
    {
     "name": "stdout",
     "output_type": "stream",
     "text": [
      "1\n"
     ]
    },
    {
     "ename": "KeyboardInterrupt",
     "evalue": "",
     "output_type": "error",
     "traceback": [
      "\u001b[1;31m---------------------------------------------------------------------------\u001b[0m",
      "\u001b[1;31mKeyboardInterrupt\u001b[0m                         Traceback (most recent call last)",
      "\u001b[1;32mC:\\Users\\戴尔\\AppData\\Local\\Temp\\ipykernel_11464\\926840025.py\u001b[0m in \u001b[0;36m<module>\u001b[1;34m\u001b[0m\n\u001b[0;32m      1\u001b[0m \u001b[1;32mfor\u001b[0m \u001b[0mii\u001b[0m \u001b[1;32min\u001b[0m \u001b[0mrange\u001b[0m\u001b[1;33m(\u001b[0m\u001b[1;36m10\u001b[0m\u001b[1;33m)\u001b[0m\u001b[1;33m:\u001b[0m\u001b[1;33m\u001b[0m\u001b[1;33m\u001b[0m\u001b[0m\n\u001b[0;32m      2\u001b[0m     \u001b[0mprint\u001b[0m\u001b[1;33m(\u001b[0m\u001b[0mii\u001b[0m\u001b[1;33m)\u001b[0m\u001b[1;33m\u001b[0m\u001b[1;33m\u001b[0m\u001b[0m\n\u001b[1;32m----> 3\u001b[1;33m     \u001b[0mHamiltonian\u001b[0m \u001b[1;33m=\u001b[0m \u001b[0mcircuit\u001b[0m\u001b[1;33m.\u001b[0m\u001b[0mHamiltonian_generator\u001b[0m\u001b[1;33m(\u001b[0m\u001b[1;34m'z'\u001b[0m\u001b[1;33m)\u001b[0m\u001b[1;33m\u001b[0m\u001b[1;33m\u001b[0m\u001b[0m\n\u001b[0m\u001b[0;32m      4\u001b[0m     \u001b[1;31m# [eigenvalue, featurevector] = transformational_matrix_generator(Hamiltonian)\u001b[0m\u001b[1;33m\u001b[0m\u001b[1;33m\u001b[0m\u001b[1;33m\u001b[0m\u001b[0m\n",
      "\u001b[1;32md:\\research\\program\\QubitSim2\\QubitSim2\\model.py\u001b[0m in \u001b[0;36mtensor_identity_expand_generator\u001b[1;34m(self, matrix, index)\u001b[0m\n\u001b[0;32m    288\u001b[0m         \u001b[1;32mfor\u001b[0m \u001b[0mi\u001b[0m \u001b[1;32min\u001b[0m \u001b[0mrange\u001b[0m\u001b[1;33m(\u001b[0m\u001b[0mself\u001b[0m\u001b[1;33m.\u001b[0m\u001b[0mqubit_number\u001b[0m\u001b[1;33m)\u001b[0m\u001b[1;33m:\u001b[0m\u001b[1;33m\u001b[0m\u001b[1;33m\u001b[0m\u001b[0m\n\u001b[0;32m    289\u001b[0m             \u001b[1;32mif\u001b[0m \u001b[0mi\u001b[0m \u001b[1;33m==\u001b[0m \u001b[0mindex\u001b[0m\u001b[1;33m:\u001b[0m\u001b[1;33m\u001b[0m\u001b[1;33m\u001b[0m\u001b[0m\n\u001b[1;32m--> 290\u001b[1;33m                 \u001b[0mmatrix_expand\u001b[0m \u001b[1;33m=\u001b[0m \u001b[0mkron\u001b[0m\u001b[1;33m(\u001b[0m\u001b[0mmatrix_expand\u001b[0m\u001b[1;33m,\u001b[0m \u001b[0mmatrix\u001b[0m\u001b[1;33m)\u001b[0m\u001b[1;33m\u001b[0m\u001b[1;33m\u001b[0m\u001b[0m\n\u001b[0m\u001b[0;32m    291\u001b[0m             \u001b[1;32melse\u001b[0m\u001b[1;33m:\u001b[0m\u001b[1;33m\u001b[0m\u001b[1;33m\u001b[0m\u001b[0m\n\u001b[0;32m    292\u001b[0m                 matrix_expand = kron(matrix_expand, np.eye(\n",
      "\u001b[1;32m<__array_function__ internals>\u001b[0m in \u001b[0;36mkron\u001b[1;34m(*args, **kwargs)\u001b[0m\n",
      "\u001b[1;32md:\\research\\program\\env\\lib\\site-packages\\numpy\\lib\\shape_base.py\u001b[0m in \u001b[0;36mkron\u001b[1;34m(a, b)\u001b[0m\n\u001b[0;32m   1152\u001b[0m             \u001b[0mbs\u001b[0m \u001b[1;33m=\u001b[0m \u001b[1;33m(\u001b[0m\u001b[1;36m1\u001b[0m\u001b[1;33m,\u001b[0m\u001b[1;33m)\u001b[0m\u001b[1;33m*\u001b[0m\u001b[1;33m(\u001b[0m\u001b[0mnda\u001b[0m\u001b[1;33m-\u001b[0m\u001b[0mndb\u001b[0m\u001b[1;33m)\u001b[0m \u001b[1;33m+\u001b[0m \u001b[0mbs\u001b[0m\u001b[1;33m\u001b[0m\u001b[1;33m\u001b[0m\u001b[0m\n\u001b[0;32m   1153\u001b[0m             \u001b[0mnd\u001b[0m \u001b[1;33m=\u001b[0m \u001b[0mnda\u001b[0m\u001b[1;33m\u001b[0m\u001b[1;33m\u001b[0m\u001b[0m\n\u001b[1;32m-> 1154\u001b[1;33m     \u001b[0mresult\u001b[0m \u001b[1;33m=\u001b[0m \u001b[0mouter\u001b[0m\u001b[1;33m(\u001b[0m\u001b[0ma\u001b[0m\u001b[1;33m,\u001b[0m \u001b[0mb\u001b[0m\u001b[1;33m)\u001b[0m\u001b[1;33m.\u001b[0m\u001b[0mreshape\u001b[0m\u001b[1;33m(\u001b[0m\u001b[0mas_\u001b[0m\u001b[1;33m+\u001b[0m\u001b[0mbs\u001b[0m\u001b[1;33m)\u001b[0m\u001b[1;33m\u001b[0m\u001b[1;33m\u001b[0m\u001b[0m\n\u001b[0m\u001b[0;32m   1155\u001b[0m     \u001b[0maxis\u001b[0m \u001b[1;33m=\u001b[0m \u001b[0mnd\u001b[0m\u001b[1;33m-\u001b[0m\u001b[1;36m1\u001b[0m\u001b[1;33m\u001b[0m\u001b[1;33m\u001b[0m\u001b[0m\n\u001b[0;32m   1156\u001b[0m     \u001b[1;32mfor\u001b[0m \u001b[0m_\u001b[0m \u001b[1;32min\u001b[0m \u001b[0mrange\u001b[0m\u001b[1;33m(\u001b[0m\u001b[0mnd\u001b[0m\u001b[1;33m)\u001b[0m\u001b[1;33m:\u001b[0m\u001b[1;33m\u001b[0m\u001b[1;33m\u001b[0m\u001b[0m\n",
      "\u001b[1;32m<__array_function__ internals>\u001b[0m in \u001b[0;36mouter\u001b[1;34m(*args, **kwargs)\u001b[0m\n",
      "\u001b[1;32md:\\research\\program\\env\\lib\\site-packages\\numpy\\core\\numeric.py\u001b[0m in \u001b[0;36mouter\u001b[1;34m(a, b, out)\u001b[0m\n\u001b[0;32m    934\u001b[0m     \u001b[0ma\u001b[0m \u001b[1;33m=\u001b[0m \u001b[0masarray\u001b[0m\u001b[1;33m(\u001b[0m\u001b[0ma\u001b[0m\u001b[1;33m)\u001b[0m\u001b[1;33m\u001b[0m\u001b[1;33m\u001b[0m\u001b[0m\n\u001b[0;32m    935\u001b[0m     \u001b[0mb\u001b[0m \u001b[1;33m=\u001b[0m \u001b[0masarray\u001b[0m\u001b[1;33m(\u001b[0m\u001b[0mb\u001b[0m\u001b[1;33m)\u001b[0m\u001b[1;33m\u001b[0m\u001b[1;33m\u001b[0m\u001b[0m\n\u001b[1;32m--> 936\u001b[1;33m     \u001b[1;32mreturn\u001b[0m \u001b[0mmultiply\u001b[0m\u001b[1;33m(\u001b[0m\u001b[0ma\u001b[0m\u001b[1;33m.\u001b[0m\u001b[0mravel\u001b[0m\u001b[1;33m(\u001b[0m\u001b[1;33m)\u001b[0m\u001b[1;33m[\u001b[0m\u001b[1;33m:\u001b[0m\u001b[1;33m,\u001b[0m \u001b[0mnewaxis\u001b[0m\u001b[1;33m]\u001b[0m\u001b[1;33m,\u001b[0m \u001b[0mb\u001b[0m\u001b[1;33m.\u001b[0m\u001b[0mravel\u001b[0m\u001b[1;33m(\u001b[0m\u001b[1;33m)\u001b[0m\u001b[1;33m[\u001b[0m\u001b[0mnewaxis\u001b[0m\u001b[1;33m,\u001b[0m \u001b[1;33m:\u001b[0m\u001b[1;33m]\u001b[0m\u001b[1;33m,\u001b[0m \u001b[0mout\u001b[0m\u001b[1;33m)\u001b[0m\u001b[1;33m\u001b[0m\u001b[1;33m\u001b[0m\u001b[0m\n\u001b[0m\u001b[0;32m    937\u001b[0m \u001b[1;33m\u001b[0m\u001b[0m\n\u001b[0;32m    938\u001b[0m \u001b[1;33m\u001b[0m\u001b[0m\n",
      "\u001b[1;31mKeyboardInterrupt\u001b[0m: "
     ]
    }
   ],
   "source": [
    "for ii in range(10):\n",
    "    print(ii)\n",
    "    Hamiltonian = circuit.Hamiltonian_generator('z')\n",
    "    # [eigenvalue, featurevector] = transformational_matrix_generator(Hamiltonian)"
   ]
  },
  {
   "cell_type": "code",
   "execution_count": null,
   "metadata": {},
   "outputs": [],
   "source": []
  }
 ],
 "metadata": {
  "kernelspec": {
   "display_name": "Python 3.7.9 ('env')",
   "language": "python",
   "name": "python3"
  },
  "language_info": {
   "codemirror_mode": {
    "name": "ipython",
    "version": 3
   },
   "file_extension": ".py",
   "mimetype": "text/x-python",
   "name": "python",
   "nbconvert_exporter": "python",
   "pygments_lexer": "ipython3",
   "version": "3.7.9"
  },
  "orig_nbformat": 4,
  "vscode": {
   "interpreter": {
    "hash": "a748dcf6a5acc6c3d9886c674d86b969a9739dcdc5e44bd29bf6a15be4d19873"
   }
  }
 },
 "nbformat": 4,
 "nbformat_minor": 2
}
